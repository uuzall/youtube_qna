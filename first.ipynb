{
 "cells": [
  {
   "cell_type": "code",
   "execution_count": 1,
   "metadata": {},
   "outputs": [],
   "source": [
    "%load_ext autoreload\n",
    "%autoreload 2"
   ]
  },
  {
   "cell_type": "code",
   "execution_count": 2,
   "metadata": {},
   "outputs": [],
   "source": [
    "import yt_dlp \n",
    "import librosa \n",
    "from transformers import pipeline, AutoTokenizer, AutoModelForCausalLM\n",
    "import data_processor\n",
    "import weaviate_database \n",
    "from torch.utils.data import DataLoader\n",
    "import weaviate \n",
    "import torch \n",
    "import llama_chat\n",
    "from typing import List \n",
    "import download_audio \n",
    "# https://www.youtube.com/watch?v=XkxZCJ1pYqs"
   ]
  },
  {
   "cell_type": "code",
   "execution_count": 3,
   "metadata": {},
   "outputs": [],
   "source": [
    "def process_video(url, file): \n",
    "  data, sr = download_audio.main(url, f'audio_files/{file}.m4a')\n",
    "  assert sr == 16000 \n",
    "\n",
    "  data_processor.speech_recognition(data, f'data/{file}.txt')\n",
    "\n",
    "  with open(f'data/{file}.txt', 'r') as file: \n",
    "    prediction = file.read()\n",
    "\n",
    "  all_text = data_processor.slice_text(prediction)\n",
    "  text_dl = DataLoader(all_text, batch_size=128, shuffle=False) \n",
    "  return text_dl "
   ]
  },
  {
   "cell_type": "code",
   "execution_count": 4,
   "metadata": {},
   "outputs": [
    {
     "name": "stdout",
     "output_type": "stream",
     "text": [
      "Huberman\n",
      "YT\n"
     ]
    },
    {
     "data": {
      "text/plain": [
       "[None, None]"
      ]
     },
     "execution_count": 4,
     "metadata": {},
     "output_type": "execute_result"
    }
   ],
   "source": [
    "client = weaviate.Client(url='http://localhost:8080', timeout_config=600)\n",
    "client.batch.batch_size = 1\n",
    "[print(x['class']) for x in client.schema.get()['classes']]"
   ]
  },
  {
   "cell_type": "code",
   "execution_count": 5,
   "metadata": {},
   "outputs": [
    {
     "name": "stdout",
     "output_type": "stream",
     "text": [
      "[youtube] Extracting URL: https://www.youtube.com/watch?v=TnB_8Zm9lPk\n",
      "[youtube] TnB_8Zm9lPk: Downloading webpage\n",
      "[youtube] TnB_8Zm9lPk: Downloading ios player API JSON\n",
      "[youtube] TnB_8Zm9lPk: Downloading android player API JSON\n",
      "[youtube] TnB_8Zm9lPk: Downloading m3u8 information\n",
      "[info] TnB_8Zm9lPk: Downloading 1 format(s): 251\n",
      "[download] Destination: audio_files/Aus.m4a\n",
      "[download] 100% of   30.14MiB in 00:00:24 at 1.23MiB/s   \n"
     ]
    },
    {
     "name": "stderr",
     "output_type": "stream",
     "text": [
      "/mnt/sda1/python_environments/AI3_11/lib/python3.11/site-packages/audioread/rawread.py:16: DeprecationWarning: 'aifc' is deprecated and slated for removal in Python 3.13\n",
      "  import aifc\n",
      "/mnt/sda1/python_environments/AI3_11/lib/python3.11/site-packages/audioread/rawread.py:17: DeprecationWarning: 'audioop' is deprecated and slated for removal in Python 3.13\n",
      "  import audioop\n",
      "/mnt/sda1/python_environments/AI3_11/lib/python3.11/site-packages/audioread/rawread.py:19: DeprecationWarning: 'sunau' is deprecated and slated for removal in Python 3.13\n",
      "  import sunau\n",
      "/mnt/sda1/python_environments/AI3_11/lib/python3.11/site-packages/audioread/ffdec.py:114: ResourceWarning: unclosed file <_io.BufferedReader name=80>\n",
      "  return proc.returncode == 0\n",
      "ResourceWarning: Enable tracemalloc to get the object allocation traceback\n",
      "/mnt/sda1/python_environments/AI3_11/lib/python3.11/site-packages/audioread/ffdec.py:114: ResourceWarning: unclosed file <_io.BufferedReader name=82>\n",
      "  return proc.returncode == 0\n",
      "ResourceWarning: Enable tracemalloc to get the object allocation traceback\n",
      "/mnt/sda1/Programming/yt_llama_qa/download_audio.py:11: UserWarning: PySoundFile failed. Trying audioread instead.\n",
      "  data, sr = librosa.load(file, sr=16000)\n",
      "/mnt/sda1/python_environments/AI3_11/lib/python3.11/site-packages/librosa/core/audio.py:184: FutureWarning: librosa.core.audio.__audioread_load\n",
      "\tDeprecated as of librosa version 0.10.0.\n",
      "\tIt will be removed in librosa version 1.0.\n",
      "  y, sr_native = __audioread_load(path, offset, duration, dtype)\n",
      "/mnt/sda1/python_environments/AI3_11/lib/python3.11/site-packages/transformers/generation/utils.py:1369: UserWarning: Using `max_length`'s default (448) to control the generation length. This behaviour is deprecated and will be removed from the config in v5 of Transformers -- we recommend using `max_new_tokens` to control the maximum length of the generation.\n",
      "  warnings.warn(\n"
     ]
    }
   ],
   "source": [
    "text_dl = process_video('https://www.youtube.com/watch?v=TnB_8Zm9lPk', 'Aus')"
   ]
  },
  {
   "cell_type": "code",
   "execution_count": 10,
   "metadata": {},
   "outputs": [
    {
     "name": "stderr",
     "output_type": "stream",
     "text": [
      "Iterations: [1/1]: 100%|██████████| 9/9 [00:00<00:00, 186.42it/s]\n"
     ]
    }
   ],
   "source": [
    "weaviate_database.add_data_to_db(client, 'Aus', text_dl, new_db=True)"
   ]
  },
  {
   "cell_type": "code",
   "execution_count": 11,
   "metadata": {},
   "outputs": [
    {
     "data": {
      "application/vnd.jupyter.widget-view+json": {
       "model_id": "daaf84c2ad6a4f6ab6951bb7e5802ef2",
       "version_major": 2,
       "version_minor": 0
      },
      "text/plain": [
       "Loading checkpoint shards:   0%|          | 0/2 [00:00<?, ?it/s]"
      ]
     },
     "metadata": {},
     "output_type": "display_data"
    }
   ],
   "source": [
    "device = 'cuda'\n",
    "tokenizer = AutoTokenizer.from_pretrained('/mnt/sda1/hf_models/Llama-2-7b-chat-hf/')\n",
    "model = AutoModelForCausalLM.from_pretrained('/mnt/sda1/hf_models/Llama-2-7b-chat-hf/', device_map=device, torch_dtype=torch.float16,  use_cache=True) "
   ]
  },
  {
   "cell_type": "code",
   "execution_count": 12,
   "metadata": {},
   "outputs": [
    {
     "name": "stderr",
     "output_type": "stream",
     "text": [
      "/mnt/sda1/python_environments/AI3_11/lib/python3.11/site-packages/transformers/generation/utils.py:1270: UserWarning: You have modified the pretrained model configuration to control generation. This is a deprecated strategy to control generation and will be removed soon, in a future version. Please use a generation configuration file (see https://huggingface.co/docs/transformers/main_classes/text_generation )\n",
      "  warnings.warn(\n",
      "This is a friendly reminder - the current text generation call will exceed the model's predefined maximum length (2048). Depending on the model, you may observe exceptions, performance degradation, or nothing at all.\n"
     ]
    },
    {
     "name": "stdout",
     "output_type": "stream",
     "text": [
      "<s> <<SYS>>\n",
      "You are a question answering bot that answers questions by reading video transcripts provided by the user. \n",
      "If a question does not make any sense, or is not factually coherent, explain why instead of answering something not correct.\n",
      "If the answer is not contained in the transcript given, please don't share false information.\n",
      "Give short succinct answer that uses key words from the transcript. \n",
      "<</SYS>>\n",
      "\n",
      "[INST] * This dot is the city of Adelaide, Australia's fifth largest city home to more than 1.3 million people. And immediately adjacent to this oasis of urban life is the pastoral unincorporated area, a territory that's roughly the size of France, but is only home to a whopping 3,750 people, making the population density something like 178 square kilometers of land for every one person. That is roughly one Aruba's worth of land for every single resident inside of the pastoral unincorporated area. Then there's also Anna Creek right over here. This is a huge territory that's slightly larger than Israel, and yet it isn't a country or even a governmental entity at all. No, Anna Creek is actually just a privately owned cattle ranch. The largest cattle ranch found anywhere in the world by far that is only staffed by eight full-time employees according to Wikipedia. So, this entire area that's the size of Israel is usually only home to less than a dozen people and around 10,000 cows. Australia is really, really, really empty. And to hammer the point home even further, consider the towns of Esperance on the South Coast and Kununurra near to the North Coast. Both of these towns are within the same state of Western Australia, and it takes at least 35 hours of time to drive from one to the other across a distance of more than 3200 kilometers. And along that entire distance in time, you'll maybe only drive through a population of less than 70,000 people the entire way. For comparison, this drive would be about the same time and distance as driving from Madrid to Istanbul across nearly the whole of Europe, where there would be a lot more than 70,000 people. So what is it about Australia that makes it such an overall and you were thinking right now is the desert. Duh. Everybody knows that Australia is covered in a big old desert with tons of super dangerous animals and insects. Who would ever want to actually live in most of the country? And while there is some truth to this line of thinking, I am here to argue with you that that's only a small part of the overall population puzzle in Australia. And the full explanation for why there are so few people on this continent is overall a pretty complicated one. Most of the problem stems from the fact that Australia is pretty uniquely cursed when it comes to both the geologic and location perspective. Located relatively close by to Antarctica, the frozen continent, the western side of Australia is continuously battered by cold ocean currents coming up from the southern ocean, which means that there simply isn't enough heat to generate large-scale evaporation that's necessary to form rain clouds over much of the west. Meanwhile in the east, the Great Dividing Range is Australia's largest and longest chain of mountains, and the fifth longest anywhere in the world. These mountains run down the entire eastern side of the continent from north to south, and their height denies\n",
      "* Of all the world's continents, Australia may be the smallest, but it's also the only one to be entirely controlled by just a single country. Almost everybody knows, though, that while Australia is a huge place in terms of land, it's also a pretty small place in terms of population. But few people really understand the absolute scale of how sparsely populated the Australian continent actually is. To help put the numbers into some perspective, Australia is of a comparable size to the lower 48 US states. These 48 US states have a population of more than 300 million people, while Australia only has a population of little more than 26 million. This means that there are two American states that have more people than the entirety of the Australian continent. California with more than 39 million, and Texas with more than 28 million. From our European perspective, the population of only England, without factoring in any of the rest of the UK UK is more than double the entire population of Australia. Despite being an entire continent, there are actually seven significantly smaller islands across the world that have higher populations than Australia. Great Britain, of course, along with Honshu, Luzon, Mindanao, Java, Sumatra, and Madagascar. Java alone has nearly 6 times Australia's tiny population, despite being an island that is 60 times smaller than Australia, the continent. But it still gets even crazier because there's also a bunch of cities across the world that, right now, have more people than the entire continent as well. The Tokyo, Jakarta, and Delhi metropolitan areas all have greater populations than the entirety of Australia, while the Shanghai and Seoul metro areas have roughly similar populations. Sao Paulo, Mexico City, New York City, Cairo, Lagos, Mumbai, and Moscow all have largely comparable metropolitan populations to Australia as well. At all things considered, Australia really only has five actual major cities across their continent. Sydney, Melbourne, Brisbane, Perth, and Adelaide, which collectively account for the residences of nearly two out of every three Australians. Australia is therefore among the most heavily urbanized nations in the world, with the overwhelming majority of the population, around 90%, concentrated into relatively small urban areas that only account for 0.22% of Australia's total land area, with half of the overall population living within just these red areas, and the other half almost entirely living in these blue areas. Overall, around 85% of all Australians live within just 50 kilometers of the coastline, meaning that there's hardly anyone deeper into the continent's vast interior. This unique population distribution creates a lot of fascinatingly bizarre situations across the continent. For example, this is the Shire of East Pilbara in Western Australia. It is roughly the same size as Japan, but there's only a bit more than 10,000 people who live here, and half of them just live right here in the town of Newman. It's basically just a small town, but with the space of Japan. Then, perhaps even more strangely, there's the pastoral unincorporated area down here in South Australia.\n",
      "* put it in a context, Australia has more arable land than Indonesia, Malaysia, Singapore, the Philippines, Vietnam, Cambodia, and Laos all have combined. Despite all of these countries having a combined population of 542 million people, and Australia only having 26 million people. To put it into another perspective, Australia has by far the highest ratio in the entire world of arable land to population at around 1.9 arable hectares of land for every one citizen of the country. For the sake of comparison, the ratio in the United States is only about 0.47 arable hectares of land per one citizen. This means that if Australia ever reached the same ratio of arable land to people as the United States, the continent would be home to well over 90 million people. Still substantially less than the population of America, but also substantially more people than Australia has today. In theory, Australia does have enough space and resources to support a lot more people than the 26 million who live there today. The big reason why it doesn't is because for pretty much the entire history of Australia, right up until the present day, it's just been a really tough place for anyone to actually get to. You see, for millions of years now, Australia has been effectively a lost continent, isolated from all the Earth's other major land masses drifting alone out in the sea. This has resulted in millions of years of completely separate evolution for the animals of the continent, which is why Australia is unique among Earth's continents for the fact that marsupials, and not placental mammals, dominate the indigenous mammal wildlife species. Modern humans first reached the continent sometime around 50,000 years ago, when the area's geography looked radically different than it does today. With sea levels significantly lower back then, humans were able to simply walk down the Sunda Peninsula, hop across just a few islands, and then make it into present-day New Guinea, which back then was connected to Australia via a land bridge as the prehistoric continent of Sahul. And after these initial humans made it to the continent, they remained almost entirely undisturbed for tens of thousands of years by any other groups of humans from anywhere in the outside world. As sea levels began to rise following the end of the last ice age, Sahul was flooded and the land bridge between New Guinea and Australia fell beneath the waves around 10,000 years ago, making Australia even more remote than it had been previously, and even less likely to ever be visited by outsiders. For the next 9600 years before the eventual arrival of the Europeans in the 17th century, the Australian continent may have only been significantly visited and impacted by outside humans a total of just two times. Dingoes, an invasive species of dog likely originating from New Guinea, were introduced to Australia sometime around 8300 years ago, potentially by an unknown group of human visitors coming from the island. About 11% of the modern Aboriginal Australian DNA also derives from\n",
      "* year, which is more than 22 times the flow of water that Australia's greatest river system has got. Nonetheless, it's the best that the continent has got, and the basin provides the drinking water for around 3 million Australians today, while the area around it has developed into the agricultural heartland of the modern Australian nation, providing nearly the entirety of the food that the 26 million people of Australia consume, along with enough to export to millions more across Asia. But as climate change continues to worsen the effects of drought on the continent, the waters that feed this agricultural heartland through the Murray-Darling Basin are getting harder and harder to come by with every passing decade. Nine of the ten hottest recorded years in the continent's history have taken place just since 2005. These higher temperatures are rapidly increasing the rates of evaporation throughout the waters of the basin, and with already limited rainfall throughout the majority of it, it's making the water here increasingly scarce, with some sections of the basin at times remaining completely dry for months on end. And it's not just the scarcity of fresh water on the continent that makes sustaining a very large population difficult. It's also the scarcity of good land for farming and agriculture, owing once again, largely, to geography, geology, and location. In northern Australia, there hasn't been any new mountain building since the Pre-Cambrian era that ended one and a half billion years ago. And even further, there hasn't been any glacial activity here since the Carboniferous ended nearly 300 million years ago. Thus, this entire region that covers nearly half of the continent has suffered its soils being beneath continuous weathering and erosion for well over 250 million years. Compared to less than 10,000 years for most of the soils on other continents like North America, Europe, or Asia. Therefore, the soil nearly everywhere in northern Australia just sucks for agriculture. The only exception to that rule is the area of the river basin that drains here into Lake Erie. But this is an overall small amount of the north, and the rainfall required for irrigation here is still very low. But the thing is, none of these geographic or climatic explanations really give the full picture. Because, despite everything that I just spent the last 10 minutes explaining to you, it turns out that Australia actually has a ton of fresh water resources. Well, at least when compared to countries and not to continents. In fact, Australia has an estimated 492 cubic kilometers worth of renewable freshwater resources, which is more than a lot of countries with significantly higher populations. That's twice as much as Pakistan, for example, a country which has more than eight times as many people. So it's not just a sheer lack of freshwater, and it's not just a sheer lack of arable land either. While, yeah, only about 6% of Australia's land is actually arable and suitable for agriculture, Australia is huge. So that 6% is still a ton of usable farmland. To\n",
      "\n",
      "Based on the video transcript above answer the following question. \n",
      "Question: Why is Australia so empty?\n",
      "Answer:[/INST]  Based on the video transcript, Australia is empty for several reasons:\n",
      "\n",
      "1. Geographical location: Australia is located relatively close to Antarctica, the frozen continent, and is continuously battered by cold ocean currents coming up from the southern ocean, which makes it difficult for the continent to generate large-scale evaporation and form rain clouds over much of the west.\n",
      "2. Population density: Australia is a vast country, but it has a relatively small population of around 26 million people, which is less than a dozen people per square kilometer. This is compared to other countries like the United States, which has a population of over 330 million people and a land area similar to Australia's.\n",
      "3. Isolation: For millions of years, Australia was isolated from other land masses, which resulted in unique evolution for the animals of the continent. This isolation made it difficult for humans to reach the continent, and it remained undisturbed for tens of thousands of years by any other groups of humans from anywhere in the outside world.\n",
      "4. Climate change: Australia is experiencing drought due to climate change, which is affecting the water resources of the continent, particularly in the agricultural heartland.\n",
      "5. Geography and geology: Northern Australia has suffered soil erosion for over 250 million years due to continuous weathering, making it difficult for the region to support good land for farming and agriculture.\n",
      "\n",
      "Overall, Australia's unique geographical location, isolation, and climate change are some of the reasons why it is relatively empty compared to other countries.</s>\n"
     ]
    }
   ],
   "source": [
    "query = 'Why is Australia so empty?'\n",
    "results = weaviate_database.search_db(client, 'Aus', query)\n",
    "\n",
    "prompt = f'''<<SYS>>\n",
    "You are a question answering bot that answers questions by reading video transcripts provided by the user. \n",
    "If a question does not make any sense, or is not factually coherent, explain why instead of answering something not correct.\n",
    "If the answer is not contained in the transcript given, please don't share false information.\n",
    "Give short succinct answer that uses key words from the transcript. \n",
    "<</SYS>>\n",
    "\n",
    "[INST] {llama_chat.get_prompt(results, tokenizer).strip()}\n",
    "\n",
    "Based on the video transcript above answer the following question. \n",
    "Question: {query}\n",
    "Answer:[/INST]'''\n",
    "\n",
    "print(llama_chat.ask_llama(prompt, tokenizer, model, device))"
   ]
  }
 ],
 "metadata": {
  "kernelspec": {
   "display_name": "AI3_11",
   "language": "python",
   "name": "python3"
  },
  "language_info": {
   "codemirror_mode": {
    "name": "ipython",
    "version": 3
   },
   "file_extension": ".py",
   "mimetype": "text/x-python",
   "name": "python",
   "nbconvert_exporter": "python",
   "pygments_lexer": "ipython3",
   "version": "3.11.0rc1"
  },
  "orig_nbformat": 4
 },
 "nbformat": 4,
 "nbformat_minor": 2
}
